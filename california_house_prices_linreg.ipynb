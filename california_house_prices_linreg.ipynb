{
  "nbformat": 4,
  "nbformat_minor": 0,
  "metadata": {
    "colab": {
      "name": "california_house_prices_linreg.ipynb",
      "provenance": [],
      "authorship_tag": "ABX9TyPPL3AUYREIYlQSSHeAqE+c",
      "include_colab_link": true
    },
    "kernelspec": {
      "name": "python3",
      "display_name": "Python 3"
    },
    "language_info": {
      "name": "python"
    }
  },
  "cells": [
    {
      "cell_type": "markdown",
      "metadata": {
        "id": "view-in-github",
        "colab_type": "text"
      },
      "source": [
        "<a href=\"https://colab.research.google.com/github/pavan-elisetty/jovian-DL-notebooks/blob/main/california_house_prices_linreg.ipynb\" target=\"_parent\"><img src=\"https://colab.research.google.com/assets/colab-badge.svg\" alt=\"Open In Colab\"/></a>"
      ]
    },
    {
      "cell_type": "code",
      "metadata": {
        "id": "8VpW-d2yAxxo"
      },
      "source": [
        "import numpy as np\n",
        "import pandas as pd\n",
        "import torch\n"
      ],
      "execution_count": 1,
      "outputs": []
    },
    {
      "cell_type": "code",
      "metadata": {
        "colab": {
          "base_uri": "https://localhost:8080/",
          "height": 195
        },
        "id": "Yh_694vgBFKM",
        "outputId": "9ec5a97e-cd93-4073-c71b-33048179df0b"
      },
      "source": [
        "data=pd.read_csv('/content/sample_data/california_housing_train.csv',header=[0])\n",
        "data.head()"
      ],
      "execution_count": 2,
      "outputs": [
        {
          "output_type": "execute_result",
          "data": {
            "text/html": [
              "<div>\n",
              "<style scoped>\n",
              "    .dataframe tbody tr th:only-of-type {\n",
              "        vertical-align: middle;\n",
              "    }\n",
              "\n",
              "    .dataframe tbody tr th {\n",
              "        vertical-align: top;\n",
              "    }\n",
              "\n",
              "    .dataframe thead th {\n",
              "        text-align: right;\n",
              "    }\n",
              "</style>\n",
              "<table border=\"1\" class=\"dataframe\">\n",
              "  <thead>\n",
              "    <tr style=\"text-align: right;\">\n",
              "      <th></th>\n",
              "      <th>longitude</th>\n",
              "      <th>latitude</th>\n",
              "      <th>housing_median_age</th>\n",
              "      <th>total_rooms</th>\n",
              "      <th>total_bedrooms</th>\n",
              "      <th>population</th>\n",
              "      <th>households</th>\n",
              "      <th>median_income</th>\n",
              "      <th>median_house_value</th>\n",
              "    </tr>\n",
              "  </thead>\n",
              "  <tbody>\n",
              "    <tr>\n",
              "      <th>0</th>\n",
              "      <td>-114.31</td>\n",
              "      <td>34.19</td>\n",
              "      <td>15.0</td>\n",
              "      <td>5612.0</td>\n",
              "      <td>1283.0</td>\n",
              "      <td>1015.0</td>\n",
              "      <td>472.0</td>\n",
              "      <td>1.4936</td>\n",
              "      <td>66900.0</td>\n",
              "    </tr>\n",
              "    <tr>\n",
              "      <th>1</th>\n",
              "      <td>-114.47</td>\n",
              "      <td>34.40</td>\n",
              "      <td>19.0</td>\n",
              "      <td>7650.0</td>\n",
              "      <td>1901.0</td>\n",
              "      <td>1129.0</td>\n",
              "      <td>463.0</td>\n",
              "      <td>1.8200</td>\n",
              "      <td>80100.0</td>\n",
              "    </tr>\n",
              "    <tr>\n",
              "      <th>2</th>\n",
              "      <td>-114.56</td>\n",
              "      <td>33.69</td>\n",
              "      <td>17.0</td>\n",
              "      <td>720.0</td>\n",
              "      <td>174.0</td>\n",
              "      <td>333.0</td>\n",
              "      <td>117.0</td>\n",
              "      <td>1.6509</td>\n",
              "      <td>85700.0</td>\n",
              "    </tr>\n",
              "    <tr>\n",
              "      <th>3</th>\n",
              "      <td>-114.57</td>\n",
              "      <td>33.64</td>\n",
              "      <td>14.0</td>\n",
              "      <td>1501.0</td>\n",
              "      <td>337.0</td>\n",
              "      <td>515.0</td>\n",
              "      <td>226.0</td>\n",
              "      <td>3.1917</td>\n",
              "      <td>73400.0</td>\n",
              "    </tr>\n",
              "    <tr>\n",
              "      <th>4</th>\n",
              "      <td>-114.57</td>\n",
              "      <td>33.57</td>\n",
              "      <td>20.0</td>\n",
              "      <td>1454.0</td>\n",
              "      <td>326.0</td>\n",
              "      <td>624.0</td>\n",
              "      <td>262.0</td>\n",
              "      <td>1.9250</td>\n",
              "      <td>65500.0</td>\n",
              "    </tr>\n",
              "  </tbody>\n",
              "</table>\n",
              "</div>"
            ],
            "text/plain": [
              "   longitude  latitude  ...  median_income  median_house_value\n",
              "0    -114.31     34.19  ...         1.4936             66900.0\n",
              "1    -114.47     34.40  ...         1.8200             80100.0\n",
              "2    -114.56     33.69  ...         1.6509             85700.0\n",
              "3    -114.57     33.64  ...         3.1917             73400.0\n",
              "4    -114.57     33.57  ...         1.9250             65500.0\n",
              "\n",
              "[5 rows x 9 columns]"
            ]
          },
          "metadata": {
            "tags": []
          },
          "execution_count": 2
        }
      ]
    },
    {
      "cell_type": "code",
      "metadata": {
        "colab": {
          "base_uri": "https://localhost:8080/",
          "height": 195
        },
        "id": "paRuypdBBPeR",
        "outputId": "e7799e1f-dcee-4e33-ca2f-6c806a044bd6"
      },
      "source": [
        "data=data.drop(labels=['longitude','latitude'],axis=1)\n",
        "data.head()"
      ],
      "execution_count": 3,
      "outputs": [
        {
          "output_type": "execute_result",
          "data": {
            "text/html": [
              "<div>\n",
              "<style scoped>\n",
              "    .dataframe tbody tr th:only-of-type {\n",
              "        vertical-align: middle;\n",
              "    }\n",
              "\n",
              "    .dataframe tbody tr th {\n",
              "        vertical-align: top;\n",
              "    }\n",
              "\n",
              "    .dataframe thead th {\n",
              "        text-align: right;\n",
              "    }\n",
              "</style>\n",
              "<table border=\"1\" class=\"dataframe\">\n",
              "  <thead>\n",
              "    <tr style=\"text-align: right;\">\n",
              "      <th></th>\n",
              "      <th>housing_median_age</th>\n",
              "      <th>total_rooms</th>\n",
              "      <th>total_bedrooms</th>\n",
              "      <th>population</th>\n",
              "      <th>households</th>\n",
              "      <th>median_income</th>\n",
              "      <th>median_house_value</th>\n",
              "    </tr>\n",
              "  </thead>\n",
              "  <tbody>\n",
              "    <tr>\n",
              "      <th>0</th>\n",
              "      <td>15.0</td>\n",
              "      <td>5612.0</td>\n",
              "      <td>1283.0</td>\n",
              "      <td>1015.0</td>\n",
              "      <td>472.0</td>\n",
              "      <td>1.4936</td>\n",
              "      <td>66900.0</td>\n",
              "    </tr>\n",
              "    <tr>\n",
              "      <th>1</th>\n",
              "      <td>19.0</td>\n",
              "      <td>7650.0</td>\n",
              "      <td>1901.0</td>\n",
              "      <td>1129.0</td>\n",
              "      <td>463.0</td>\n",
              "      <td>1.8200</td>\n",
              "      <td>80100.0</td>\n",
              "    </tr>\n",
              "    <tr>\n",
              "      <th>2</th>\n",
              "      <td>17.0</td>\n",
              "      <td>720.0</td>\n",
              "      <td>174.0</td>\n",
              "      <td>333.0</td>\n",
              "      <td>117.0</td>\n",
              "      <td>1.6509</td>\n",
              "      <td>85700.0</td>\n",
              "    </tr>\n",
              "    <tr>\n",
              "      <th>3</th>\n",
              "      <td>14.0</td>\n",
              "      <td>1501.0</td>\n",
              "      <td>337.0</td>\n",
              "      <td>515.0</td>\n",
              "      <td>226.0</td>\n",
              "      <td>3.1917</td>\n",
              "      <td>73400.0</td>\n",
              "    </tr>\n",
              "    <tr>\n",
              "      <th>4</th>\n",
              "      <td>20.0</td>\n",
              "      <td>1454.0</td>\n",
              "      <td>326.0</td>\n",
              "      <td>624.0</td>\n",
              "      <td>262.0</td>\n",
              "      <td>1.9250</td>\n",
              "      <td>65500.0</td>\n",
              "    </tr>\n",
              "  </tbody>\n",
              "</table>\n",
              "</div>"
            ],
            "text/plain": [
              "   housing_median_age  total_rooms  ...  median_income  median_house_value\n",
              "0                15.0       5612.0  ...         1.4936             66900.0\n",
              "1                19.0       7650.0  ...         1.8200             80100.0\n",
              "2                17.0        720.0  ...         1.6509             85700.0\n",
              "3                14.0       1501.0  ...         3.1917             73400.0\n",
              "4                20.0       1454.0  ...         1.9250             65500.0\n",
              "\n",
              "[5 rows x 7 columns]"
            ]
          },
          "metadata": {
            "tags": []
          },
          "execution_count": 3
        }
      ]
    },
    {
      "cell_type": "code",
      "metadata": {
        "colab": {
          "base_uri": "https://localhost:8080/"
        },
        "id": "in1KjZitBVPt",
        "outputId": "c63cb4cf-6d45-46f7-d8f8-174788936e4c"
      },
      "source": [
        "x=data.drop('median_house_value',axis=1).values\n",
        "x=x.astype('float32')\n",
        "x"
      ],
      "execution_count": 4,
      "outputs": [
        {
          "output_type": "execute_result",
          "data": {
            "text/plain": [
              "array([[1.5000e+01, 5.6120e+03, 1.2830e+03, 1.0150e+03, 4.7200e+02,\n",
              "        1.4936e+00],\n",
              "       [1.9000e+01, 7.6500e+03, 1.9010e+03, 1.1290e+03, 4.6300e+02,\n",
              "        1.8200e+00],\n",
              "       [1.7000e+01, 7.2000e+02, 1.7400e+02, 3.3300e+02, 1.1700e+02,\n",
              "        1.6509e+00],\n",
              "       ...,\n",
              "       [1.7000e+01, 2.6770e+03, 5.3100e+02, 1.2440e+03, 4.5600e+02,\n",
              "        3.0313e+00],\n",
              "       [1.9000e+01, 2.6720e+03, 5.5200e+02, 1.2980e+03, 4.7800e+02,\n",
              "        1.9797e+00],\n",
              "       [5.2000e+01, 1.8200e+03, 3.0000e+02, 8.0600e+02, 2.7000e+02,\n",
              "        3.0147e+00]], dtype=float32)"
            ]
          },
          "metadata": {
            "tags": []
          },
          "execution_count": 4
        }
      ]
    },
    {
      "cell_type": "code",
      "metadata": {
        "colab": {
          "base_uri": "https://localhost:8080/"
        },
        "id": "KxyL2ooKByJN",
        "outputId": "f993fb9f-8a68-445a-961e-6b2db118d2c0"
      },
      "source": [
        "y=data['median_house_value'].values\n",
        "y=y.astype('float32')\n",
        "y"
      ],
      "execution_count": 5,
      "outputs": [
        {
          "output_type": "execute_result",
          "data": {
            "text/plain": [
              "array([ 66900.,  80100.,  85700., ..., 103600.,  85800.,  94600.],\n",
              "      dtype=float32)"
            ]
          },
          "metadata": {
            "tags": []
          },
          "execution_count": 5
        }
      ]
    },
    {
      "cell_type": "code",
      "metadata": {
        "colab": {
          "base_uri": "https://localhost:8080/"
        },
        "id": "2bDzdHD3CQpw",
        "outputId": "46b58de2-4c8b-49c6-845b-3bd684159ad0"
      },
      "source": [
        "inputs=torch.from_numpy(x)\n",
        "targets=torch.from_numpy(y)\n",
        "targets=targets.reshape(17000,1)\n",
        "targets"
      ],
      "execution_count": 6,
      "outputs": [
        {
          "output_type": "execute_result",
          "data": {
            "text/plain": [
              "tensor([[ 66900.],\n",
              "        [ 80100.],\n",
              "        [ 85700.],\n",
              "        ...,\n",
              "        [103600.],\n",
              "        [ 85800.],\n",
              "        [ 94600.]])"
            ]
          },
          "metadata": {
            "tags": []
          },
          "execution_count": 6
        }
      ]
    },
    {
      "cell_type": "code",
      "metadata": {
        "id": "OhyIBnkfCdHy"
      },
      "source": [
        "torch.manual_seed(3)\n",
        "from torch.utils.data import DataLoader,TensorDataset\n",
        "tensor_data=TensorDataset(inputs,targets)\n",
        "batch_size=20\n",
        "train_data=DataLoader(tensor_data,batch_size,shuffle=True)"
      ],
      "execution_count": 7,
      "outputs": []
    },
    {
      "cell_type": "code",
      "metadata": {
        "colab": {
          "base_uri": "https://localhost:8080/"
        },
        "id": "cEqQWeMwDFJv",
        "outputId": "284404de-6b19-43ed-dcce-b0ddd56b201f"
      },
      "source": [
        "for x,y in train_data:\n",
        "  print(x)\n",
        "  print(y)\n",
        "  break"
      ],
      "execution_count": 8,
      "outputs": [
        {
          "output_type": "stream",
          "text": [
            "tensor([[4.0000e+00, 5.8000e+01, 2.9000e+01, 7.9000e+01, 2.9000e+01, 3.3750e+00],\n",
            "        [5.2000e+01, 7.6900e+02, 2.0600e+02, 6.1200e+02, 1.8300e+02, 2.5700e+00],\n",
            "        [2.9000e+01, 8.8900e+02, 1.6600e+02, 5.9700e+02, 1.6300e+02, 4.9609e+00],\n",
            "        [5.0000e+00, 9.2690e+03, 1.6050e+03, 4.9160e+03, 1.5190e+03, 4.4367e+00],\n",
            "        [2.7000e+01, 3.0440e+03, 5.6500e+02, 1.5830e+03, 5.1400e+02, 2.7989e+00],\n",
            "        [2.3000e+01, 1.8580e+03, 5.5100e+02, 1.5060e+03, 4.9200e+02, 1.7446e+00],\n",
            "        [2.8000e+01, 5.2740e+03, 9.9100e+02, 3.7270e+03, 9.6100e+02, 3.5700e+00],\n",
            "        [3.8000e+01, 7.2700e+02, 1.7300e+02, 5.5900e+02, 1.7600e+02, 2.4653e+00],\n",
            "        [1.9000e+01, 2.0120e+03, 7.3200e+02, 3.4830e+03, 7.3100e+02, 2.2234e+00],\n",
            "        [3.3000e+01, 1.2930e+03, 2.7200e+02, 6.9400e+02, 2.2900e+02, 2.0221e+00],\n",
            "        [5.2000e+01, 1.8440e+03, 3.9200e+02, 6.6700e+02, 3.5300e+02, 3.0033e+00],\n",
            "        [2.1000e+01, 2.3700e+03, 5.4000e+02, 1.4880e+03, 5.5400e+02, 2.7361e+00],\n",
            "        [7.0000e+00, 3.9400e+03, 7.6400e+02, 2.1400e+03, 7.1100e+02, 3.0357e+00],\n",
            "        [4.7000e+01, 1.4530e+03, 2.4700e+02, 7.2100e+02, 2.7600e+02, 5.5176e+00],\n",
            "        [3.6000e+01, 1.4510e+03, 2.2400e+02, 6.0800e+02, 2.4600e+02, 6.0648e+00],\n",
            "        [8.0000e+00, 3.5920e+03, 8.4900e+02, 1.9070e+03, 7.4600e+02, 3.6708e+00],\n",
            "        [3.4000e+01, 1.8830e+03, 4.0800e+02, 1.2270e+03, 4.2400e+02, 3.8929e+00],\n",
            "        [4.9000e+01, 7.9200e+02, 1.3600e+02, 3.3100e+02, 1.3700e+02, 5.2128e+00],\n",
            "        [1.5000e+01, 2.2280e+03, 4.7200e+02, 6.5300e+02, 3.5000e+02, 2.6830e+00],\n",
            "        [5.2000e+01, 6.7400e+02, 1.8000e+02, 6.4700e+02, 1.6800e+02, 3.3750e+00]])\n",
            "tensor([[106300.],\n",
            "        [ 72000.],\n",
            "        [186700.],\n",
            "        [133200.],\n",
            "        [126700.],\n",
            "        [ 85200.],\n",
            "        [109800.],\n",
            "        [ 49500.],\n",
            "        [181300.],\n",
            "        [ 52200.],\n",
            "        [103500.],\n",
            "        [ 83300.],\n",
            "        [ 91300.],\n",
            "        [191000.],\n",
            "        [290800.],\n",
            "        [197900.],\n",
            "        [187500.],\n",
            "        [238600.],\n",
            "        [139300.],\n",
            "        [116100.]])\n"
          ],
          "name": "stdout"
        }
      ]
    },
    {
      "cell_type": "code",
      "metadata": {
        "id": "tYaZME5EDa3W"
      },
      "source": [
        "import torch.nn as nn\n",
        "model=nn.Linear(6,1)"
      ],
      "execution_count": 9,
      "outputs": []
    },
    {
      "cell_type": "code",
      "metadata": {
        "colab": {
          "base_uri": "https://localhost:8080/"
        },
        "id": "Vj_BleEGDrbM",
        "outputId": "2e825476-4491-4892-bcb7-89999e804728"
      },
      "source": [
        "print(model.weight)\n",
        "print(model.bias)\n",
        "print(*model.parameters())"
      ],
      "execution_count": 10,
      "outputs": [
        {
          "output_type": "stream",
          "text": [
            "Parameter containing:\n",
            "tensor([[-0.1720, -0.2316,  0.2347,  0.2680, -0.3696,  0.2764]],\n",
            "       requires_grad=True)\n",
            "Parameter containing:\n",
            "tensor([0.4035], requires_grad=True)\n",
            "Parameter containing:\n",
            "tensor([[-0.1720, -0.2316,  0.2347,  0.2680, -0.3696,  0.2764]],\n",
            "       requires_grad=True) Parameter containing:\n",
            "tensor([0.4035], requires_grad=True)\n"
          ],
          "name": "stdout"
        }
      ]
    },
    {
      "cell_type": "code",
      "metadata": {
        "colab": {
          "base_uri": "https://localhost:8080/"
        },
        "id": "IEm6kyevD3Cc",
        "outputId": "786cb6e0-3eec-42aa-d754-dd7f20c395c3"
      },
      "source": [
        "pred=model(inputs)\n",
        "print(pred)"
      ],
      "execution_count": 11,
      "outputs": [
        {
          "output_type": "stream",
          "text": [
            "tensor([[ -902.9592],\n",
            "        [-1196.6945],\n",
            "        [  -81.9924],\n",
            "        ...,\n",
            "        [ -332.2466],\n",
            "        [ -320.4539],\n",
            "        [ -242.6244]], grad_fn=<AddmmBackward>)\n"
          ],
          "name": "stdout"
        }
      ]
    },
    {
      "cell_type": "code",
      "metadata": {
        "colab": {
          "base_uri": "https://localhost:8080/"
        },
        "id": "mtbeLnmSD_iO",
        "outputId": "022ca501-8c37-45b7-dff0-b55732893911"
      },
      "source": [
        "#defining loss function\n",
        "from torch.nn.functional import mse_loss\n",
        "loss_fn=mse_loss\n",
        "#test\n",
        "loss=loss_fn(model(inputs),targets)\n",
        "\n",
        "print(loss)"
      ],
      "execution_count": 14,
      "outputs": [
        {
          "output_type": "stream",
          "text": [
            "tensor(5.6564e+10, grad_fn=<MseLossBackward>)\n"
          ],
          "name": "stdout"
        }
      ]
    },
    {
      "cell_type": "code",
      "metadata": {
        "colab": {
          "base_uri": "https://localhost:8080/"
        },
        "id": "VIOBbzb9F384",
        "outputId": "fa63c5fe-00d8-4d01-9f96-a8be6f03a423"
      },
      "source": [
        "inputs.shape[0]==targets.shape[0]"
      ],
      "execution_count": 15,
      "outputs": [
        {
          "output_type": "execute_result",
          "data": {
            "text/plain": [
              "True"
            ]
          },
          "metadata": {
            "tags": []
          },
          "execution_count": 15
        }
      ]
    },
    {
      "cell_type": "code",
      "metadata": {
        "id": "hqDPlrWPHX_9"
      },
      "source": [
        "#defining optimizer\n",
        "opt = torch.optim.SGD(model.parameters(),lr=1e-5)"
      ],
      "execution_count": 16,
      "outputs": []
    },
    {
      "cell_type": "code",
      "metadata": {
        "id": "oivC4fIUHi8D"
      },
      "source": [
        "def fit(model,num_epochs,loss_fn,train_dl,opt):\n",
        "\n",
        "  for epoch in range(num_epochs):\n",
        "\n",
        "    for x,y in train_dl:\n",
        "\n",
        "      pred=model(x)\n",
        "\n",
        "      loss=loss_fn(x,y)\n",
        "\n",
        "      loss.backward()\n",
        "\n",
        "      opt.step()\n",
        "\n",
        "      opt.zero_grad()\n",
        "      if (epoch+1) % 10 == 0:\n",
        "            print('Epoch [{}/{}], Loss: {:.4f}'.format(epoch+1, num_epochs, loss.item()))\n",
        "\n",
        "    "
      ],
      "execution_count": 17,
      "outputs": []
    },
    {
      "cell_type": "code",
      "metadata": {
        "id": "HrdXcE_UIaqq"
      },
      "source": [
        "num_epochs=100\n",
        "fit(model,num_epochs,loss_fn,train_data,opt)"
      ],
      "execution_count": null,
      "outputs": []
    }
  ]
}