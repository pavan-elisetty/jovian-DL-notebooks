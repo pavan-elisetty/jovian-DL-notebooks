{
  "nbformat": 4,
  "nbformat_minor": 0,
  "metadata": {
    "colab": {
      "name": "linear-reg-torch.ipynb",
      "provenance": []
    },
    "kernelspec": {
      "name": "python3",
      "display_name": "Python 3"
    },
    "language_info": {
      "name": "python"
    }
  },
  "cells": [
    {
      "cell_type": "code",
      "metadata": {
        "id": "mi8e3SoC8Ay5"
      },
      "source": [
        "import torch\n",
        "import numpy as np\n"
      ],
      "execution_count": 2,
      "outputs": []
    },
    {
      "cell_type": "code",
      "metadata": {
        "colab": {
          "base_uri": "https://localhost:8080/"
        },
        "id": "SdO7LvHd8HVB",
        "outputId": "ffe5e85d-2c0d-487d-ebfd-faa4c331b7b3"
      },
      "source": [
        "#Train data\n",
        "# Input (temp, rainfall, humidity)\n",
        "inputs = np.array([[73, 67, 43], \n",
        "                   [91, 88, 64], \n",
        "                   [87, 134, 58], \n",
        "                   [102, 43, 37], \n",
        "                   [69, 96, 70]], dtype='float32')\n",
        "print(inputs.shape)"
      ],
      "execution_count": 3,
      "outputs": [
        {
          "output_type": "stream",
          "text": [
            "(5, 3)\n"
          ],
          "name": "stdout"
        }
      ]
    },
    {
      "cell_type": "code",
      "metadata": {
        "id": "bRaoPCdn8RcL"
      },
      "source": [
        "# Targets (apples, oranges)\n",
        "targets = np.array([[56, 70], \n",
        "                    [81, 101], \n",
        "                    [119, 133], \n",
        "                    [22, 37], \n",
        "                    [103, 119]], dtype='float32')"
      ],
      "execution_count": 4,
      "outputs": []
    },
    {
      "cell_type": "code",
      "metadata": {
        "colab": {
          "base_uri": "https://localhost:8080/"
        },
        "id": "aLSC8X9Q8Udt",
        "outputId": "bdb8f420-da60-45cd-94cb-8e4664eda923"
      },
      "source": [
        "#weights and biases\n",
        "w = torch.randn(2,3,requires_grad=True)\n",
        "b = torch.randn(2,requires_grad=True)\n",
        "w,b"
      ],
      "execution_count": 5,
      "outputs": [
        {
          "output_type": "execute_result",
          "data": {
            "text/plain": [
              "(tensor([[ 0.1973,  0.0023, -0.1046],\n",
              "         [ 0.0676, -0.6210,  0.0832]], requires_grad=True),\n",
              " tensor([ 0.4570, -0.7914], requires_grad=True))"
            ]
          },
          "metadata": {
            "tags": []
          },
          "execution_count": 5
        }
      ]
    },
    {
      "cell_type": "code",
      "metadata": {
        "id": "WUYh3k-79Qfi"
      },
      "source": [
        "inputs=torch.from_numpy(inputs)\n",
        "targets=torch.from_numpy(targets)"
      ],
      "execution_count": 8,
      "outputs": []
    },
    {
      "cell_type": "code",
      "metadata": {
        "id": "H7KK4hyA8u30"
      },
      "source": [
        "def model(input_values):\n",
        "  return input_values@w.t() + b\n"
      ],
      "execution_count": 9,
      "outputs": []
    },
    {
      "cell_type": "code",
      "metadata": {
        "id": "VDezc48W9Fq8"
      },
      "source": [
        "pred=model(inputs)"
      ],
      "execution_count": 14,
      "outputs": []
    },
    {
      "cell_type": "code",
      "metadata": {
        "id": "oH8f7ly19Ici"
      },
      "source": [
        "#mse loss\n",
        "def mse(predictions,targets):\n",
        "  diff=predictions-targets\n",
        "  return torch.sum(diff*diff)/diff.numel()\n"
      ],
      "execution_count": 15,
      "outputs": []
    },
    {
      "cell_type": "code",
      "metadata": {
        "colab": {
          "base_uri": "https://localhost:8080/"
        },
        "id": "Z5tx0OJ5-G3_",
        "outputId": "8884d8b0-b445-476a-ef57-b9dc70ae66d1"
      },
      "source": [
        "loss=mse(pred,targets)\n",
        "print(loss)"
      ],
      "execution_count": 16,
      "outputs": [
        {
          "output_type": "stream",
          "text": [
            "tensor(13344.1904, grad_fn=<DivBackward0>)\n"
          ],
          "name": "stdout"
        }
      ]
    },
    {
      "cell_type": "code",
      "metadata": {
        "id": "yR6rK0yy-Jjc"
      },
      "source": [
        "loss.backward()"
      ],
      "execution_count": 17,
      "outputs": []
    },
    {
      "cell_type": "code",
      "metadata": {
        "colab": {
          "base_uri": "https://localhost:8080/"
        },
        "id": "v71aOFoG-r0b",
        "outputId": "627b9e72-2707-4edf-d88c-6cdb54bf8c53"
      },
      "source": [
        "print(w)\n",
        "print(w.grad)\n",
        "print(b)\n",
        "print(b.grad)"
      ],
      "execution_count": 18,
      "outputs": [
        {
          "output_type": "stream",
          "text": [
            "tensor([[ 0.1973,  0.0023, -0.1046],\n",
            "        [ 0.0676, -0.6210,  0.0832]], requires_grad=True)\n",
            "tensor([[ -5216.3110,  -6584.6738,  -3900.8203],\n",
            "        [-11188.2041, -13184.6270,  -7910.4961]])\n",
            "tensor([ 0.4570, -0.7914], requires_grad=True)\n",
            "tensor([ -64.5808, -135.7204])\n"
          ],
          "name": "stdout"
        }
      ]
    },
    {
      "cell_type": "code",
      "metadata": {
        "colab": {
          "base_uri": "https://localhost:8080/"
        },
        "id": "nfM273ps-wxK",
        "outputId": "86c1e499-1fd5-47bc-dd64-7019119174e2"
      },
      "source": [
        "with torch.no_grad():\n",
        "  w -= w.grad*1e-5\n",
        "  b -=b.grad*1e-5\n",
        "  print(w)\n",
        "  print(b)\n",
        "  "
      ],
      "execution_count": 19,
      "outputs": [
        {
          "output_type": "stream",
          "text": [
            "tensor([[ 0.2495,  0.0682, -0.0656],\n",
            "        [ 0.1795, -0.4892,  0.1623]], requires_grad=True)\n",
            "tensor([ 0.4576, -0.7900], requires_grad=True)\n"
          ],
          "name": "stdout"
        }
      ]
    },
    {
      "cell_type": "code",
      "metadata": {
        "colab": {
          "base_uri": "https://localhost:8080/"
        },
        "id": "0AFA9EUVA1u8",
        "outputId": "b0bb8aae-7b7f-4864-8126-740473ff7c64"
      },
      "source": [
        "mse(pred,targets)"
      ],
      "execution_count": 22,
      "outputs": [
        {
          "output_type": "execute_result",
          "data": {
            "text/plain": [
              "tensor(13344.1904, grad_fn=<DivBackward0>)"
            ]
          },
          "metadata": {
            "tags": []
          },
          "execution_count": 22
        }
      ]
    },
    {
      "cell_type": "code",
      "metadata": {
        "colab": {
          "base_uri": "https://localhost:8080/"
        },
        "id": "eETdhayxA9to",
        "outputId": "d2c9849e-aaf6-430e-cc8c-cabc1f7e1787"
      },
      "source": [
        "w.grad.zero_()\n",
        "b.grad.zero_()\n",
        "w.grad,b.grad"
      ],
      "execution_count": 24,
      "outputs": [
        {
          "output_type": "execute_result",
          "data": {
            "text/plain": [
              "(tensor([[0., 0., 0.],\n",
              "         [0., 0., 0.]]), tensor([0., 0.]))"
            ]
          },
          "metadata": {
            "tags": []
          },
          "execution_count": 24
        }
      ]
    },
    {
      "cell_type": "code",
      "metadata": {
        "colab": {
          "base_uri": "https://localhost:8080/"
        },
        "id": "aktJiuDABd-R",
        "outputId": "6405beb4-fc3e-4bba-f8b1-07d82e565abf"
      },
      "source": [
        "# sequential implementation \n",
        "pred=model(inputs)\n",
        "print(pred)\n",
        "loss=mse(pred,targets)\n",
        "print(loss)\n"
      ],
      "execution_count": 26,
      "outputs": [
        {
          "output_type": "stream",
          "text": [
            "tensor([[ 20.4166, -13.4843],\n",
            "        [ 24.9614, -17.1181],\n",
            "        [ 27.4926, -41.3126],\n",
            "        [ 26.4093,   2.4875],\n",
            "        [ 19.6245, -24.0065]], grad_fn=<AddBackward0>)\n",
            "tensor(9269.9404, grad_fn=<DivBackward0>)\n"
          ],
          "name": "stdout"
        }
      ]
    },
    {
      "cell_type": "code",
      "metadata": {
        "colab": {
          "base_uri": "https://localhost:8080/"
        },
        "id": "-5Xsk5cCB1T5",
        "outputId": "0c4ff100-269e-4afd-8bdd-6060cf92f97a"
      },
      "source": [
        "# Compute gradients\n",
        "loss.backward()\n",
        "print(w.grad)\n",
        "print(b.grad)"
      ],
      "execution_count": 27,
      "outputs": [
        {
          "output_type": "stream",
          "text": [
            "tensor([[ -4192.2803,  -5478.3848,  -3219.4248],\n",
            "        [ -9079.2051, -10911.6797,  -6509.3867]])\n",
            "tensor([ -52.4191, -110.6868])\n"
          ],
          "name": "stdout"
        }
      ]
    },
    {
      "cell_type": "code",
      "metadata": {
        "colab": {
          "base_uri": "https://localhost:8080/"
        },
        "id": "2P3iMj1JB9xT",
        "outputId": "6f80a4b1-29b5-4196-cb81-7828d584f400"
      },
      "source": [
        "# Adjust weights & reset gradients\n",
        "with torch.no_grad():\n",
        "    w -= w.grad * 1e-5\n",
        "    b -= b.grad * 1e-5\n",
        "    w.grad.zero_()\n",
        "    b.grad.zero_()\n",
        "    print(w)\n",
        "    print(b)"
      ],
      "execution_count": 28,
      "outputs": [
        {
          "output_type": "stream",
          "text": [
            "tensor([[ 0.2914,  0.1229, -0.0334],\n",
            "        [ 0.2703, -0.3801,  0.2274]], requires_grad=True)\n",
            "tensor([ 0.4582, -0.7889], requires_grad=True)\n"
          ],
          "name": "stdout"
        }
      ]
    },
    {
      "cell_type": "code",
      "metadata": {
        "colab": {
          "base_uri": "https://localhost:8080/"
        },
        "id": "W9rec0UTCCg0",
        "outputId": "4886b1d4-3702-43bf-8b0c-78af9be4d296"
      },
      "source": [
        "print(w)\n",
        "print(b)"
      ],
      "execution_count": 29,
      "outputs": [
        {
          "output_type": "stream",
          "text": [
            "tensor([[ 0.2914,  0.1229, -0.0334],\n",
            "        [ 0.2703, -0.3801,  0.2274]], requires_grad=True)\n",
            "tensor([ 0.4582, -0.7889], requires_grad=True)\n"
          ],
          "name": "stdout"
        }
      ]
    },
    {
      "cell_type": "code",
      "metadata": {
        "colab": {
          "base_uri": "https://localhost:8080/"
        },
        "id": "wEy-KaufCGNR",
        "outputId": "da5ce116-3564-404c-ed93-f5fca93ce881"
      },
      "source": [
        "# Calculate loss\n",
        "preds = model(inputs) #to see a change in loss we need to go with new predictions for the model after the gradient updation\n",
        "loss = mse(preds, targets)\n",
        "print(loss)"
      ],
      "execution_count": 30,
      "outputs": [
        {
          "output_type": "stream",
          "text": [
            "tensor(6520.9233, grad_fn=<DivBackward0>)\n"
          ],
          "name": "stdout"
        }
      ]
    },
    {
      "cell_type": "code",
      "metadata": {
        "colab": {
          "base_uri": "https://localhost:8080/"
        },
        "id": "PBsrfPttCLO5",
        "outputId": "3b7beb0e-243a-469e-e911-1f357d0c8534"
      },
      "source": [
        "for _ in range(100): #training for 100 epochs\n",
        "    preds=model(inputs)\n",
        "    loss=mse(preds,targets)\n",
        "    loss.backward()\n",
        "    with torch.no_grad():\n",
        "      w -= w.grad*1e-5\n",
        "      b -= b.grad*1e-5\n",
        "      w.grad.zero_()\n",
        "      b.grad.zero_()\n",
        "print(loss)\n"
      ],
      "execution_count": 36,
      "outputs": [
        {
          "output_type": "stream",
          "text": [
            "tensor(255.8309, grad_fn=<DivBackward0>)\n"
          ],
          "name": "stdout"
        }
      ]
    },
    {
      "cell_type": "code",
      "metadata": {
        "colab": {
          "base_uri": "https://localhost:8080/"
        },
        "id": "MjU7h1Z_DS1T",
        "outputId": "8e7642ca-581f-4418-e99f-f0b986c8dc46"
      },
      "source": [
        "# Calculate loss\n",
        "preds = model(inputs)\n",
        "loss = mse(preds, targets)\n",
        "print(loss)"
      ],
      "execution_count": 37,
      "outputs": [
        {
          "output_type": "stream",
          "text": [
            "tensor(252.7750, grad_fn=<DivBackward0>)\n"
          ],
          "name": "stdout"
        }
      ]
    },
    {
      "cell_type": "code",
      "metadata": {
        "id": "oCO9N2pqDdtB"
      },
      "source": [
        ""
      ],
      "execution_count": null,
      "outputs": []
    }
  ]
}