{
  "nbformat": 4,
  "nbformat_minor": 0,
  "metadata": {
    "colab": {
      "name": "linear-reg-torch.ipynb",
      "provenance": [],
      "authorship_tag": "ABX9TyO6q4FN/VFwpWUYcPwHxznG",
      "include_colab_link": true
    },
    "kernelspec": {
      "name": "python3",
      "display_name": "Python 3"
    },
    "language_info": {
      "name": "python"
    }
  },
  "cells": [
    {
      "cell_type": "markdown",
      "metadata": {
        "id": "view-in-github",
        "colab_type": "text"
      },
      "source": [
        "<a href=\"https://colab.research.google.com/github/pavan-elisetty/jovian-DL-notebooks/blob/main/linear_reg_torch.ipynb\" target=\"_parent\"><img src=\"https://colab.research.google.com/assets/colab-badge.svg\" alt=\"Open In Colab\"/></a>"
      ]
    },
    {
      "cell_type": "code",
      "metadata": {
        "id": "mi8e3SoC8Ay5"
      },
      "source": [
        "import torch\n",
        "import numpy as np\n"
      ],
      "execution_count": 1,
      "outputs": []
    },
    {
      "cell_type": "code",
      "metadata": {
        "colab": {
          "base_uri": "https://localhost:8080/"
        },
        "id": "SdO7LvHd8HVB",
        "outputId": "ae00de08-ea49-4fe4-f589-13e4582664b3"
      },
      "source": [
        "#Train data\n",
        "# Input (temp, rainfall, humidity)\n",
        "inputs = np.array([[73, 67, 43], \n",
        "                   [91, 88, 64], \n",
        "                   [87, 134, 58], \n",
        "                   [102, 43, 37], \n",
        "                   [69, 96, 70]], dtype='float32')\n",
        "print(inputs.shape)"
      ],
      "execution_count": 2,
      "outputs": [
        {
          "output_type": "stream",
          "text": [
            "(5, 3)\n"
          ],
          "name": "stdout"
        }
      ]
    },
    {
      "cell_type": "code",
      "metadata": {
        "id": "bRaoPCdn8RcL"
      },
      "source": [
        "# Targets (apples, oranges)\n",
        "targets = np.array([[56, 70], \n",
        "                    [81, 101], \n",
        "                    [119, 133], \n",
        "                    [22, 37], \n",
        "                    [103, 119]], dtype='float32')"
      ],
      "execution_count": 3,
      "outputs": []
    },
    {
      "cell_type": "code",
      "metadata": {
        "colab": {
          "base_uri": "https://localhost:8080/"
        },
        "id": "aLSC8X9Q8Udt",
        "outputId": "bf9396b5-cc40-442b-c634-078f4044bab1"
      },
      "source": [
        "#weights and biases\n",
        "w = torch.randn(2,3,requires_grad=True)\n",
        "b = torch.randn(2,requires_grad=True)\n",
        "w,b"
      ],
      "execution_count": 4,
      "outputs": [
        {
          "output_type": "execute_result",
          "data": {
            "text/plain": [
              "(tensor([[-0.5254, -1.4857, -0.8407],\n",
              "         [ 0.6506, -2.2724, -1.8995]], requires_grad=True),\n",
              " tensor([ 2.4743, -0.1917], requires_grad=True))"
            ]
          },
          "metadata": {
            "tags": []
          },
          "execution_count": 4
        }
      ]
    },
    {
      "cell_type": "code",
      "metadata": {
        "id": "WUYh3k-79Qfi"
      },
      "source": [
        "inputs=torch.from_numpy(inputs)\n",
        "targets=torch.from_numpy(targets)"
      ],
      "execution_count": 5,
      "outputs": []
    },
    {
      "cell_type": "code",
      "metadata": {
        "id": "H7KK4hyA8u30"
      },
      "source": [
        "def model(input_values):\n",
        "  return input_values@w.t() + b\n"
      ],
      "execution_count": 6,
      "outputs": []
    },
    {
      "cell_type": "code",
      "metadata": {
        "id": "VDezc48W9Fq8"
      },
      "source": [
        "pred=model(inputs)"
      ],
      "execution_count": 7,
      "outputs": []
    },
    {
      "cell_type": "code",
      "metadata": {
        "id": "oH8f7ly19Ici"
      },
      "source": [
        "#mse loss\n",
        "def mse(predictions,targets):\n",
        "  diff=predictions-targets\n",
        "  return torch.sum(diff*diff)/diff.numel()\n"
      ],
      "execution_count": 8,
      "outputs": []
    },
    {
      "cell_type": "code",
      "metadata": {
        "colab": {
          "base_uri": "https://localhost:8080/"
        },
        "id": "Z5tx0OJ5-G3_",
        "outputId": "832ca084-2a96-44f6-d246-6007de9a81fc"
      },
      "source": [
        "loss=mse(pred,targets)\n",
        "print(loss)"
      ],
      "execution_count": 9,
      "outputs": [
        {
          "output_type": "stream",
          "text": [
            "tensor(109888.2656, grad_fn=<DivBackward0>)\n"
          ],
          "name": "stdout"
        }
      ]
    },
    {
      "cell_type": "code",
      "metadata": {
        "id": "yR6rK0yy-Jjc"
      },
      "source": [
        "loss.backward()"
      ],
      "execution_count": 10,
      "outputs": []
    },
    {
      "cell_type": "code",
      "metadata": {
        "colab": {
          "base_uri": "https://localhost:8080/"
        },
        "id": "v71aOFoG-r0b",
        "outputId": "0d9068d0-c154-48eb-ccf8-41ac80af087f"
      },
      "source": [
        "print(w)\n",
        "print(w.grad)\n",
        "print(b)\n",
        "print(b.grad)"
      ],
      "execution_count": 11,
      "outputs": [
        {
          "output_type": "stream",
          "text": [
            "tensor([[-0.5254, -1.4857, -0.8407],\n",
            "        [ 0.6506, -2.2724, -1.8995]], requires_grad=True)\n",
            "tensor([[-24213.3359, -27451.3633, -16672.9121],\n",
            "        [-27613.8242, -32364.7031, -19541.9902]])\n",
            "tensor([ 2.4743, -0.1917], requires_grad=True)\n",
            "tensor([-290.9796, -335.1331])\n"
          ],
          "name": "stdout"
        }
      ]
    },
    {
      "cell_type": "code",
      "metadata": {
        "colab": {
          "base_uri": "https://localhost:8080/"
        },
        "id": "nfM273ps-wxK",
        "outputId": "a3d6d5b0-ed0f-4370-b03a-d20181b6b0ee"
      },
      "source": [
        "with torch.no_grad():\n",
        "  w -= w.grad*1e-5\n",
        "  b -=b.grad*1e-5\n",
        "  print(w)\n",
        "  print(b)\n",
        "  "
      ],
      "execution_count": 12,
      "outputs": [
        {
          "output_type": "stream",
          "text": [
            "tensor([[-0.2833, -1.2112, -0.6739],\n",
            "        [ 0.9267, -1.9487, -1.7041]], requires_grad=True)\n",
            "tensor([ 2.4772, -0.1883], requires_grad=True)\n"
          ],
          "name": "stdout"
        }
      ]
    },
    {
      "cell_type": "code",
      "metadata": {
        "colab": {
          "base_uri": "https://localhost:8080/"
        },
        "id": "0AFA9EUVA1u8",
        "outputId": "44f9d620-607e-4a2c-bf46-f8611023f47c"
      },
      "source": [
        "mse(pred,targets)"
      ],
      "execution_count": 13,
      "outputs": [
        {
          "output_type": "execute_result",
          "data": {
            "text/plain": [
              "tensor(109888.2656, grad_fn=<DivBackward0>)"
            ]
          },
          "metadata": {
            "tags": []
          },
          "execution_count": 13
        }
      ]
    },
    {
      "cell_type": "code",
      "metadata": {
        "colab": {
          "base_uri": "https://localhost:8080/"
        },
        "id": "eETdhayxA9to",
        "outputId": "9bd1e0b2-4f88-41d6-b25c-40d7c0a4d8df"
      },
      "source": [
        "w.grad.zero_()\n",
        "b.grad.zero_()\n",
        "w.grad,b.grad"
      ],
      "execution_count": 14,
      "outputs": [
        {
          "output_type": "execute_result",
          "data": {
            "text/plain": [
              "(tensor([[0., 0., 0.],\n",
              "         [0., 0., 0.]]), tensor([0., 0.]))"
            ]
          },
          "metadata": {
            "tags": []
          },
          "execution_count": 14
        }
      ]
    },
    {
      "cell_type": "code",
      "metadata": {
        "colab": {
          "base_uri": "https://localhost:8080/"
        },
        "id": "aktJiuDABd-R",
        "outputId": "0b24432d-4038-45ab-d0bd-47a49ea0f5ee"
      },
      "source": [
        "# sequential implementation \n",
        "pred=model(inputs)\n",
        "print(pred)\n",
        "loss=mse(pred,targets)\n",
        "print(loss)\n"
      ],
      "execution_count": 15,
      "outputs": [
        {
          "output_type": "stream",
          "text": [
            "tensor([[-128.3316, -136.3800],\n",
            "        [-173.0185, -196.4087],\n",
            "        [-223.5563, -279.5324],\n",
            "        [-103.4347,  -52.5116],\n",
            "        [-180.5194, -242.6106]], grad_fn=<AddBackward0>)\n",
            "tensor(75196.7656, grad_fn=<DivBackward0>)\n"
          ],
          "name": "stdout"
        }
      ]
    },
    {
      "cell_type": "code",
      "metadata": {
        "colab": {
          "base_uri": "https://localhost:8080/"
        },
        "id": "-5Xsk5cCB1T5",
        "outputId": "cad1ab74-4cd5-4b64-dfdc-7befb63df9d6"
      },
      "source": [
        "# Compute gradients\n",
        "loss.backward()\n",
        "print(w.grad)\n",
        "print(b.grad)"
      ],
      "execution_count": 16,
      "outputs": [
        {
          "output_type": "stream",
          "text": [
            "tensor([[-19746.2949, -22643.5879, -13707.8301],\n",
            "        [-22420.3125, -26768.4785, -16092.0098]])\n",
            "tensor([-237.9721, -273.4887])\n"
          ],
          "name": "stdout"
        }
      ]
    },
    {
      "cell_type": "code",
      "metadata": {
        "colab": {
          "base_uri": "https://localhost:8080/"
        },
        "id": "2P3iMj1JB9xT",
        "outputId": "f31af07d-ffe1-406f-b2e9-91e69ae069f5"
      },
      "source": [
        "# Adjust weights & reset gradients\n",
        "with torch.no_grad():\n",
        "    w -= w.grad * 1e-5\n",
        "    b -= b.grad * 1e-5\n",
        "    w.grad.zero_()\n",
        "    b.grad.zero_()\n",
        "    print(w)\n",
        "    print(b)"
      ],
      "execution_count": 17,
      "outputs": [
        {
          "output_type": "stream",
          "text": [
            "tensor([[-0.0858, -0.9848, -0.5369],\n",
            "        [ 1.1509, -1.6810, -1.5432]], requires_grad=True)\n",
            "tensor([ 2.4796, -0.1856], requires_grad=True)\n"
          ],
          "name": "stdout"
        }
      ]
    },
    {
      "cell_type": "code",
      "metadata": {
        "colab": {
          "base_uri": "https://localhost:8080/"
        },
        "id": "W9rec0UTCCg0",
        "outputId": "51185ed3-dcce-4f19-917a-32766a171db2"
      },
      "source": [
        "print(w)\n",
        "print(b)"
      ],
      "execution_count": 18,
      "outputs": [
        {
          "output_type": "stream",
          "text": [
            "tensor([[-0.0858, -0.9848, -0.5369],\n",
            "        [ 1.1509, -1.6810, -1.5432]], requires_grad=True)\n",
            "tensor([ 2.4796, -0.1856], requires_grad=True)\n"
          ],
          "name": "stdout"
        }
      ]
    },
    {
      "cell_type": "code",
      "metadata": {
        "colab": {
          "base_uri": "https://localhost:8080/"
        },
        "id": "wEy-KaufCGNR",
        "outputId": "aee5e302-5541-4a97-d861-f74f256eb684"
      },
      "source": [
        "# Calculate loss\n",
        "preds = model(inputs) #to see a change in loss we need to go with new predictions for the model after the gradient updation\n",
        "loss = mse(preds, targets)\n",
        "print(loss)"
      ],
      "execution_count": 19,
      "outputs": [
        {
          "output_type": "stream",
          "text": [
            "tensor(51804.7109, grad_fn=<DivBackward0>)\n"
          ],
          "name": "stdout"
        }
      ]
    },
    {
      "cell_type": "code",
      "metadata": {
        "colab": {
          "base_uri": "https://localhost:8080/"
        },
        "id": "PBsrfPttCLO5",
        "outputId": "7d22c1c4-7685-4a45-b7d9-bbec498e08d6"
      },
      "source": [
        "for _ in range(100): #training for 100 epochs\n",
        "    preds=model(inputs)\n",
        "    loss=mse(preds,targets)\n",
        "    loss.backward()\n",
        "    with torch.no_grad():\n",
        "      w -= w.grad*1e-5\n",
        "      b -= b.grad*1e-5\n",
        "      w.grad.zero_()\n",
        "      b.grad.zero_()\n",
        "print(loss)\n"
      ],
      "execution_count": 20,
      "outputs": [
        {
          "output_type": "stream",
          "text": [
            "tensor(1088.5950, grad_fn=<DivBackward0>)\n"
          ],
          "name": "stdout"
        }
      ]
    },
    {
      "cell_type": "code",
      "metadata": {
        "colab": {
          "base_uri": "https://localhost:8080/"
        },
        "id": "MjU7h1Z_DS1T",
        "outputId": "e67d195c-41d7-4129-e37c-58bec61ea2b2"
      },
      "source": [
        "# Calculate loss\n",
        "preds = model(inputs)\n",
        "loss = mse(preds, targets)\n",
        "print(loss)"
      ],
      "execution_count": 21,
      "outputs": [
        {
          "output_type": "stream",
          "text": [
            "tensor(1076.1155, grad_fn=<DivBackward0>)\n"
          ],
          "name": "stdout"
        }
      ]
    },
    {
      "cell_type": "code",
      "metadata": {
        "id": "oCO9N2pqDdtB"
      },
      "source": [
        "# using torch high level apis\n",
        "import torch.nn as nn\n",
        "import numpy as np"
      ],
      "execution_count": 22,
      "outputs": []
    },
    {
      "cell_type": "code",
      "metadata": {
        "id": "i5MKSpdhyEOb"
      },
      "source": [
        "# Input (temp, rainfall, humidity)\n",
        "inputs = np.array([[73, 67, 43], \n",
        "                   [91, 88, 64], \n",
        "                   [87, 134, 58], \n",
        "                   [102, 43, 37], \n",
        "                   [69, 96, 70], \n",
        "                   [74, 66, 43], \n",
        "                   [91, 87, 65], \n",
        "                   [88, 134, 59], \n",
        "                   [101, 44, 37], \n",
        "                   [68, 96, 71], \n",
        "                   [73, 66, 44], \n",
        "                   [92, 87, 64], \n",
        "                   [87, 135, 57], \n",
        "                   [103, 43, 36], \n",
        "                   [68, 97, 70]], \n",
        "                  dtype='float32')\n",
        "\n",
        "# Targets (apples, oranges)\n",
        "targets = np.array([[56, 70], \n",
        "                    [81, 101], \n",
        "                    [119, 133], \n",
        "                    [22, 37], \n",
        "                    [103, 119],\n",
        "                    [57, 69], \n",
        "                    [80, 102], \n",
        "                    [118, 132], \n",
        "                    [21, 38], \n",
        "                    [104, 118], \n",
        "                    [57, 69], \n",
        "                    [82, 100], \n",
        "                    [118, 134], \n",
        "                    [20, 38], \n",
        "                    [102, 120]], \n",
        "                   dtype='float32')\n",
        "\n",
        "inputs = torch.from_numpy(inputs)\n",
        "targets = torch.from_numpy(targets)"
      ],
      "execution_count": 23,
      "outputs": []
    },
    {
      "cell_type": "code",
      "metadata": {
        "id": "vfWMID9eyLjr"
      },
      "source": [
        "from torch.utils.data import TensorDataset "
      ],
      "execution_count": 24,
      "outputs": []
    },
    {
      "cell_type": "code",
      "metadata": {
        "colab": {
          "base_uri": "https://localhost:8080/"
        },
        "id": "6eWTlt7lzA1p",
        "outputId": "1b5d192e-f563-42be-b5a9-80d9550eaf05"
      },
      "source": [
        "train_data = TensorDataset(inputs,targets) #merging inputs and targets\n",
        "train_data[:3]"
      ],
      "execution_count": 25,
      "outputs": [
        {
          "output_type": "execute_result",
          "data": {
            "text/plain": [
              "(tensor([[ 73.,  67.,  43.],\n",
              "         [ 91.,  88.,  64.],\n",
              "         [ 87., 134.,  58.]]), tensor([[ 56.,  70.],\n",
              "         [ 81., 101.],\n",
              "         [119., 133.]]))"
            ]
          },
          "metadata": {
            "tags": []
          },
          "execution_count": 25
        }
      ]
    },
    {
      "cell_type": "code",
      "metadata": {
        "id": "iolkhktgzKMu"
      },
      "source": [
        "from torch.utils.data import DataLoader\n",
        "batch_size=6\n",
        "train_dl=DataLoader(train_data,batch_size,shuffle=True) #shuffling and batching"
      ],
      "execution_count": 28,
      "outputs": []
    },
    {
      "cell_type": "code",
      "metadata": {
        "colab": {
          "base_uri": "https://localhost:8080/"
        },
        "id": "NCN1AiarzlGD",
        "outputId": "611d3dcc-6bfa-4202-f00e-b7010661a27c"
      },
      "source": [
        "print(*train_dl)"
      ],
      "execution_count": 30,
      "outputs": [
        {
          "output_type": "stream",
          "text": [
            "[tensor([[ 87., 134.,  58.],\n",
            "        [ 69.,  96.,  70.],\n",
            "        [ 92.,  87.,  64.],\n",
            "        [ 91.,  87.,  65.],\n",
            "        [ 68.,  96.,  71.],\n",
            "        [ 87., 135.,  57.]]), tensor([[119., 133.],\n",
            "        [103., 119.],\n",
            "        [ 82., 100.],\n",
            "        [ 80., 102.],\n",
            "        [104., 118.],\n",
            "        [118., 134.]])] [tensor([[ 73.,  67.,  43.],\n",
            "        [ 74.,  66.,  43.],\n",
            "        [ 68.,  97.,  70.],\n",
            "        [ 73.,  66.,  44.],\n",
            "        [103.,  43.,  36.],\n",
            "        [102.,  43.,  37.]]), tensor([[ 56.,  70.],\n",
            "        [ 57.,  69.],\n",
            "        [102., 120.],\n",
            "        [ 57.,  69.],\n",
            "        [ 20.,  38.],\n",
            "        [ 22.,  37.]])] [tensor([[ 88., 134.,  59.],\n",
            "        [101.,  44.,  37.],\n",
            "        [ 91.,  88.,  64.]]), tensor([[118., 132.],\n",
            "        [ 21.,  38.],\n",
            "        [ 81., 101.]])]\n"
          ],
          "name": "stdout"
        }
      ]
    },
    {
      "cell_type": "code",
      "metadata": {
        "colab": {
          "base_uri": "https://localhost:8080/"
        },
        "id": "6DIQAxxwz0jv",
        "outputId": "758ec387-4b66-4999-bc9f-b8b5dc1276a3"
      },
      "source": [
        "#defining model\n",
        "model=nn.Linear(3,2) #3 attributes and 2 classes\n",
        "print(model.weight\n",
        "      )\n",
        "print(model.bias) # these weights and bias are randomly initialized"
      ],
      "execution_count": 31,
      "outputs": [
        {
          "output_type": "stream",
          "text": [
            "Parameter containing:\n",
            "tensor([[-0.1227, -0.2129, -0.0994],\n",
            "        [ 0.5752, -0.3603, -0.5487]], requires_grad=True)\n",
            "Parameter containing:\n",
            "tensor([0.1161, 0.4625], requires_grad=True)\n"
          ],
          "name": "stdout"
        }
      ]
    },
    {
      "cell_type": "code",
      "metadata": {
        "colab": {
          "base_uri": "https://localhost:8080/"
        },
        "id": "CCfHul3B0Qln",
        "outputId": "36a5a373-7d9e-4c07-94d1-227fdc6d2432"
      },
      "source": [
        "print(*model.parameters())"
      ],
      "execution_count": 36,
      "outputs": [
        {
          "output_type": "stream",
          "text": [
            "Parameter containing:\n",
            "tensor([[-0.1227, -0.2129, -0.0994],\n",
            "        [ 0.5752, -0.3603, -0.5487]], requires_grad=True) Parameter containing:\n",
            "tensor([0.1161, 0.4625], requires_grad=True)\n"
          ],
          "name": "stdout"
        }
      ]
    },
    {
      "cell_type": "code",
      "metadata": {
        "colab": {
          "base_uri": "https://localhost:8080/"
        },
        "id": "6Hy8BLBT0TI4",
        "outputId": "bc986e24-7c42-4004-e45b-a296a1af9b80"
      },
      "source": [
        "preds=model(inputs)\n",
        "preds"
      ],
      "execution_count": 38,
      "outputs": [
        {
          "output_type": "execute_result",
          "data": {
            "text/plain": [
              "tensor([[-27.3832,  -5.2805],\n",
              "        [-36.1509, -14.0155],\n",
              "        [-44.8589, -29.5997],\n",
              "        [-25.2355,  23.3415],\n",
              "        [-35.7506, -32.8456],\n",
              "        [-27.2930,  -4.3450],\n",
              "        [-36.0373, -14.2039],\n",
              "        [-45.0810, -29.5731],\n",
              "        [-25.3257,  22.4059],\n",
              "        [-35.7272, -33.9695],\n",
              "        [-27.2696,  -5.4689],\n",
              "        [-36.0607, -13.0800],\n",
              "        [-44.9725, -29.4113],\n",
              "        [-25.2589,  24.4654],\n",
              "        [-35.8408, -33.7812]], grad_fn=<AddmmBackward>)"
            ]
          },
          "metadata": {
            "tags": []
          },
          "execution_count": 38
        }
      ]
    },
    {
      "cell_type": "code",
      "metadata": {
        "id": "HROL0K1J1MqV"
      },
      "source": [
        "#defining loss function\n",
        "from torch.nn.functional import mse_loss\n",
        "loss_fn=mse_loss"
      ],
      "execution_count": 40,
      "outputs": []
    },
    {
      "cell_type": "code",
      "metadata": {
        "colab": {
          "base_uri": "https://localhost:8080/"
        },
        "id": "CMFCvp5w1i1d",
        "outputId": "abbd40ae-9fa8-4483-bf89-acc41cf476b4"
      },
      "source": [
        "loss=loss_fn(model(inputs),targets)\n",
        "print(loss)"
      ],
      "execution_count": 41,
      "outputs": [
        {
          "output_type": "stream",
          "text": [
            "tensor(13742.1836, grad_fn=<MseLossBackward>)\n"
          ],
          "name": "stdout"
        }
      ]
    },
    {
      "cell_type": "code",
      "metadata": {
        "id": "bTUBGx8T1zZA"
      },
      "source": [
        "#defining optimizer\n",
        "opt = torch.optim.SGD(model.parameters(),lr=1e-5)"
      ],
      "execution_count": 42,
      "outputs": []
    },
    {
      "cell_type": "code",
      "metadata": {
        "id": "4QQusI4S1_-E"
      },
      "source": [
        "# Utility function to train the model\n",
        "def fit(num_epochs, model, loss_fn, opt, train_dl):\n",
        "    \n",
        "    # Repeat for given number of epochs\n",
        "    for epoch in range(num_epochs):\n",
        "        \n",
        "        # Train with batches of data\n",
        "        for xb,yb in train_dl:\n",
        "            \n",
        "            # 1. Generate predictions\n",
        "            pred = model(xb)\n",
        "            \n",
        "            # 2. Calculate loss\n",
        "            loss = loss_fn(pred, yb)\n",
        "            \n",
        "            # 3. Compute gradients\n",
        "            loss.backward()\n",
        "            \n",
        "            # 4. Update parameters using gradients\n",
        "            opt.step()\n",
        "            \n",
        "            # 5. Reset the gradients to zero\n",
        "            opt.zero_grad()\n",
        "        \n",
        "        # Print the progress\n",
        "        if (epoch+1) % 10 == 0:\n",
        "            print('Epoch [{}/{}], Loss: {:.4f}'.format(epoch+1, num_epochs, loss.item()))"
      ],
      "execution_count": 44,
      "outputs": []
    },
    {
      "cell_type": "code",
      "metadata": {
        "colab": {
          "base_uri": "https://localhost:8080/"
        },
        "id": "mNp77MzL2HoR",
        "outputId": "247094a8-5234-461e-ecec-fa505b213a70"
      },
      "source": [
        "fit(100,model,loss_fn,opt,train_dl)"
      ],
      "execution_count": 46,
      "outputs": [
        {
          "output_type": "stream",
          "text": [
            "Epoch [10/100], Loss: 1162.7413\n",
            "Epoch [20/100], Loss: 1515.1595\n",
            "Epoch [30/100], Loss: 462.9326\n",
            "Epoch [40/100], Loss: 618.8602\n",
            "Epoch [50/100], Loss: 12.5430\n",
            "Epoch [60/100], Loss: 196.4310\n",
            "Epoch [70/100], Loss: 107.9281\n",
            "Epoch [80/100], Loss: 132.6216\n",
            "Epoch [90/100], Loss: 117.1911\n",
            "Epoch [100/100], Loss: 52.6924\n"
          ],
          "name": "stdout"
        }
      ]
    },
    {
      "cell_type": "code",
      "metadata": {
        "colab": {
          "base_uri": "https://localhost:8080/"
        },
        "id": "jCw7El0c2xoY",
        "outputId": "26838231-6ef9-44b5-ad12-39995c9716a7"
      },
      "source": [
        "# Generate predictions\n",
        "preds = model(inputs)\n",
        "preds"
      ],
      "execution_count": 47,
      "outputs": [
        {
          "output_type": "execute_result",
          "data": {
            "text/plain": [
              "tensor([[ 58.1304,  72.4559],\n",
              "        [ 80.6146,  95.9402],\n",
              "        [118.7710, 138.1354],\n",
              "        [ 27.9319,  50.1120],\n",
              "        [ 95.3203, 103.5120],\n",
              "        [ 57.0262,  71.5537],\n",
              "        [ 80.1671,  95.1471],\n",
              "        [118.9445, 138.3194],\n",
              "        [ 29.0361,  51.0142],\n",
              "        [ 95.9769, 103.6210],\n",
              "        [ 57.6828,  71.6628],\n",
              "        [ 79.5105,  95.0380],\n",
              "        [119.2185, 138.9286],\n",
              "        [ 27.2752,  50.0030],\n",
              "        [ 96.4244, 104.4142]], grad_fn=<AddmmBackward>)"
            ]
          },
          "metadata": {
            "tags": []
          },
          "execution_count": 47
        }
      ]
    },
    {
      "cell_type": "code",
      "metadata": {
        "colab": {
          "base_uri": "https://localhost:8080/"
        },
        "id": "chSA6n3l243V",
        "outputId": "5b263f0e-834d-44a0-a58e-f9b1ae2b190e"
      },
      "source": [
        "# Compare with targets\n",
        "targets"
      ],
      "execution_count": 48,
      "outputs": [
        {
          "output_type": "execute_result",
          "data": {
            "text/plain": [
              "tensor([[ 56.,  70.],\n",
              "        [ 81., 101.],\n",
              "        [119., 133.],\n",
              "        [ 22.,  37.],\n",
              "        [103., 119.],\n",
              "        [ 57.,  69.],\n",
              "        [ 80., 102.],\n",
              "        [118., 132.],\n",
              "        [ 21.,  38.],\n",
              "        [104., 118.],\n",
              "        [ 57.,  69.],\n",
              "        [ 82., 100.],\n",
              "        [118., 134.],\n",
              "        [ 20.,  38.],\n",
              "        [102., 120.]])"
            ]
          },
          "metadata": {
            "tags": []
          },
          "execution_count": 48
        }
      ]
    },
    {
      "cell_type": "code",
      "metadata": {
        "colab": {
          "base_uri": "https://localhost:8080/"
        },
        "id": "qOb_HMto27iU",
        "outputId": "3365b055-906d-40a0-faa7-c1671c2e24fa"
      },
      "source": [
        "#single sample\n",
        "model(torch.tensor([[75, 63, 44.]]))"
      ],
      "execution_count": 49,
      "outputs": [
        {
          "output_type": "execute_result",
          "data": {
            "text/plain": [
              "tensor([[54.6119, 68.9188]], grad_fn=<AddmmBackward>)"
            ]
          },
          "metadata": {
            "tags": []
          },
          "execution_count": 49
        }
      ]
    }
  ]
}